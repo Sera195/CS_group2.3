{
 "cells": [
  {
   "cell_type": "code",
   "execution_count": 1,
   "id": "beautiful-insert",
   "metadata": {},
   "outputs": [
    {
     "name": "stdout",
     "output_type": "stream",
     "text": [
      "Defaulting to user installation because normal site-packages is not writeable\n",
      "Requirement already satisfied: gmplot in c:\\users\\lukih\\appdata\\local\\packages\\pythonsoftwarefoundation.python.3.12_qbz5n2kfra8p0\\localcache\\local-packages\\python312\\site-packages (1.4.1)\n",
      "Requirement already satisfied: requests in c:\\users\\lukih\\appdata\\local\\packages\\pythonsoftwarefoundation.python.3.12_qbz5n2kfra8p0\\localcache\\local-packages\\python312\\site-packages (from gmplot) (2.31.0)\n",
      "Requirement already satisfied: charset-normalizer<4,>=2 in c:\\users\\lukih\\appdata\\local\\packages\\pythonsoftwarefoundation.python.3.12_qbz5n2kfra8p0\\localcache\\local-packages\\python312\\site-packages (from requests->gmplot) (3.3.2)\n",
      "Requirement already satisfied: idna<4,>=2.5 in c:\\users\\lukih\\appdata\\local\\packages\\pythonsoftwarefoundation.python.3.12_qbz5n2kfra8p0\\localcache\\local-packages\\python312\\site-packages (from requests->gmplot) (3.6)\n",
      "Requirement already satisfied: urllib3<3,>=1.21.1 in c:\\users\\lukih\\appdata\\local\\packages\\pythonsoftwarefoundation.python.3.12_qbz5n2kfra8p0\\localcache\\local-packages\\python312\\site-packages (from requests->gmplot) (2.2.1)\n",
      "Requirement already satisfied: certifi>=2017.4.17 in c:\\users\\lukih\\appdata\\local\\packages\\pythonsoftwarefoundation.python.3.12_qbz5n2kfra8p0\\localcache\\local-packages\\python312\\site-packages (from requests->gmplot) (2024.2.2)\n",
      "Note: you may need to restart the kernel to use updated packages.\n"
     ]
    }
   ],
   "source": [
    "pip install gmplot\n"
   ]
  },
  {
   "cell_type": "code",
   "execution_count": 2,
   "id": "59e4495f",
   "metadata": {},
   "outputs": [
    {
     "name": "stdout",
     "output_type": "stream",
     "text": [
      "Defaulting to user installation because normal site-packages is not writeable\n",
      "Note: you may need to restart the kernel to use updated packages.\n"
     ]
    },
    {
     "name": "stderr",
     "output_type": "stream",
     "text": [
      "ERROR: Could not find a version that satisfies the requirement tkinter (from versions: none)\n",
      "ERROR: No matching distribution found for tkinter\n"
     ]
    }
   ],
   "source": [
    "pip install tkinter"
   ]
  },
  {
   "cell_type": "code",
   "execution_count": 3,
   "id": "a02ac626",
   "metadata": {},
   "outputs": [],
   "source": [
    "import tkinter as tk\n",
    "from tkinter import messagebox\n",
    "import gmplot\n",
    "from geopy.geocoders import Nominatim\n",
    "\n",
    "class MapMarkerApp:\n",
    "    def __init__(self, root):\n",
    "        self.root = root\n",
    "        self.root.title(\"Google Maps Marker\")\n",
    "        \n",
    "        # Initialisierung der Google Maps-Karte\n",
    "        self.gmap = gmplot.GoogleMapPlotter(0, 0, 1)\n",
    "        \n",
    "        # Erstellung des Tkinter-Frames\n",
    "        self.frame = tk.Frame(self.root)\n",
    "        self.frame.pack(padx=10, pady=10)\n",
    "        \n",
    "        # Erstellung des Eingabefelds für den Stadtnamen\n",
    "        self.city_label = tk.Label(self.frame, text=\"City:\")\n",
    "        self.city_label.grid(row=0, column=0, sticky=\"w\")\n",
    "        self.city_entry = tk.Entry(self.frame)\n",
    "        self.city_entry.grid(row=0, column=1)\n",
    "        \n",
    "        # Erstellung des Buttons zum Anzeigen der Stadt\n",
    "        self.show_city_button = tk.Button(self.frame, text=\"Show City\", command=self.show_city)\n",
    "        self.show_city_button.grid(row=1, columnspan=2, pady=10)\n",
    "        \n",
    "        # Initialisierung der Karte im Tkinter-Frame\n",
    "        self.map_canvas = tk.Canvas(self.frame, width=600, height=400)\n",
    "        self.map_canvas.grid(row=2, columnspan=2)\n",
    "        \n",
    "        # Anzeigen der Karte\n",
    "        self.show_map()\n",
    "    \n",
    "    def show_map(self):\n",
    "        # Speichern der Karte als HTML-Datei\n",
    "        self.gmap.draw(\"map.html\")\n",
    "        \n",
    "        # Laden der HTML-Datei in einem Webbrowser\n",
    "        import webbrowser\n",
    "        webbrowser.open(\"map.html\")\n",
    "    \n",
    "    def show_city(self):\n",
    "        city = self.city_entry.get()\n",
    "        if city:\n",
    "            try:\n",
    "                # Abrufen der Koordinaten der Stadt\n",
    "                geolocator = Nominatim(user_agent=\"map_marker\")\n",
    "                location = geolocator.geocode(city)\n",
    "                if location:\n",
    "                    lat, lng = location.latitude, location.longitude\n",
    "                    \n",
    "                    # Anzeigen der Stadt auf der Karte\n",
    "                    self.gmap.marker(lat, lng, title=city)\n",
    "                    \n",
    "                    # Zentrieren der Karte auf die Stadt und Zoomen\n",
    "                    self.gmap.center = (lat, lng)\n",
    "                    self.gmap.zoom = 10  # Sie können den Zoom-Wert anpassen\n",
    "                    \n",
    "                    # Aktualisierung der Karte im Tkinter-Frame\n",
    "                    self.show_map()\n",
    "                else:\n",
    "                    messagebox.showerror(\"Error\", \"City not found.\")\n",
    "            except Exception as e:\n",
    "                messagebox.showerror(\"Error\", str(e))\n",
    "        else:\n",
    "            messagebox.showerror(\"Error\", \"Please enter a city name.\")\n",
    "\n",
    "# Erstellung des Tkinter-Fensters und Start der Anwendung\n",
    "root = tk.Tk()\n",
    "app = MapMarkerApp(root)\n",
    "root.mainloop()\n"
   ]
  },
  {
   "cell_type": "code",
   "execution_count": null,
   "id": "82045569",
   "metadata": {},
   "outputs": [],
   "source": []
  }
 ],
 "metadata": {
  "celltoolbar": "Slideshow",
  "kernelspec": {
   "display_name": "Python 3 (ipykernel)",
   "language": "python",
   "name": "python3"
  },
  "language_info": {
   "codemirror_mode": {
    "name": "ipython",
    "version": 3
   },
   "file_extension": ".py",
   "mimetype": "text/x-python",
   "name": "python",
   "nbconvert_exporter": "python",
   "pygments_lexer": "ipython3",
   "version": "3.12.2"
  }
 },
 "nbformat": 4,
 "nbformat_minor": 5
}
