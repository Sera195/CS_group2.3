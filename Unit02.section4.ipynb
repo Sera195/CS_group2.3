{
 "cells": [
  {
   "cell_type": "markdown",
   "id": "equal-patrick",
   "metadata": {
    "slideshow": {
     "slide_type": "slide"
    }
   },
   "source": [
    "# Lecture 2\n",
    "\n",
    "# Section 4: Functions\n",
    "\n",
    "Hint: All the examples and explanations from this fourth part of today's lecture can be found in chapter 4 of the book."
   ]
  },
  {
   "cell_type": "markdown",
   "id": "flexible-reception",
   "metadata": {
    "slideshow": {
     "slide_type": "-"
    }
   },
   "source": [
    "### Objectives \n",
    "* Create custom functions.\n",
    "* Import and use Python Standard Library modules, such as `random` and `math`, to reuse code and avoid “reinventing the wheel.”\n",
    "* Pass data between functions.\n",
    "* Generate a range of random numbers. "
   ]
  },
  {
   "cell_type": "markdown",
   "id": "mexican-picnic",
   "metadata": {
    "slideshow": {
     "slide_type": "slide"
    }
   },
   "source": [
    "## 4.1 Idea\n",
    "* Construct large programs from smaller, more manageable pieces. \n",
    "* Divide and conquer. \n",
    "* Use existing functions as building blocks.\n",
    "    * Key aspect of software reusability.\n",
    "    * Also a major benefit of object-oriented programming (we will discuss OO later in this course). \n",
    "* Packaging code as a function allows you to execute it from various locations in your program just by calling the function.\n",
    "* Makes programs easier to modify."
   ]
  },
  {
   "cell_type": "markdown",
   "id": "sublime-development",
   "metadata": {
    "slideshow": {
     "slide_type": "slide"
    }
   },
   "source": [
    "## 4.2 Defining Functions\n",
    "* `square` function that calculates the square of its argument."
   ]
  },
  {
   "cell_type": "code",
   "execution_count": 3,
   "id": "pregnant-japan",
   "metadata": {},
   "outputs": [],
   "source": [
    "def square(number):\n",
    "    \"\"\"Calculate the square of number.\"\"\"\n",
    "    return number ** 2"
   ]
  },
  {
   "cell_type": "code",
   "execution_count": 4,
   "id": "roman-meditation",
   "metadata": {},
   "outputs": [
    {
     "data": {
      "text/plain": [
       "49"
      ]
     },
     "execution_count": 4,
     "metadata": {},
     "output_type": "execute_result"
    }
   ],
   "source": [
    "square(7)"
   ]
  },
  {
   "cell_type": "code",
   "execution_count": 5,
   "id": "excessive-perry",
   "metadata": {},
   "outputs": [
    {
     "data": {
      "text/plain": [
       "6.25"
      ]
     },
     "execution_count": 5,
     "metadata": {},
     "output_type": "execute_result"
    }
   ],
   "source": [
    "square(2.5)"
   ]
  },
  {
   "cell_type": "markdown",
   "id": "upper-signal",
   "metadata": {},
   "source": [
    "* Calling `square` with a non-numeric argument like `'hello'` causes a `TypeError` because the exponentiation operator (`**`) works only with numeric values"
   ]
  },
  {
   "cell_type": "markdown",
   "id": "scenic-interpretation",
   "metadata": {
    "slideshow": {
     "slide_type": "slide"
    }
   },
   "source": [
    "### Defining a Custom Function\n",
    "* Definition begins with the (**`def` keyword**, followed by the function name, a set of parentheses and a colon (`:`). \n",
    "* By convention function names should begin with a lowercase letter and in multiword names underscores should separate each word. \n",
    "* Required parentheses contain the function’s **parameter list**.\n",
    "* Empty parentheses mean no parameters. \n",
    "* The indented lines after the colon (`:`) are the function’s **block**\n",
    "    * Consists of an optional docstring followed by the statements that perform the function’s task."
   ]
  },
  {
   "cell_type": "markdown",
   "id": "hourly-checklist",
   "metadata": {
    "slideshow": {
     "slide_type": "slide"
    }
   },
   "source": [
    "### Specifying a Custom Function’s Docstring \n",
    "* _Style Guide for Python Code_: First line in a function’s block should be a docstring that briefly explains the function’s purpose."
   ]
  },
  {
   "cell_type": "code",
   "execution_count": 6,
   "id": "2b9bd00f",
   "metadata": {},
   "outputs": [
    {
     "data": {
      "text/plain": [
       "\u001b[1;31mSignature:\u001b[0m \u001b[0msquare\u001b[0m\u001b[1;33m(\u001b[0m\u001b[0mnumber\u001b[0m\u001b[1;33m)\u001b[0m\u001b[1;33m\u001b[0m\u001b[1;33m\u001b[0m\u001b[0m\n",
       "\u001b[1;31mDocstring:\u001b[0m Calculate the square of number.\n",
       "\u001b[1;31mFile:\u001b[0m      c:\\users\\ramha\\appdata\\local\\temp\\ipykernel_10716\\4144742051.py\n",
       "\u001b[1;31mType:\u001b[0m      function"
      ]
     },
     "metadata": {},
     "output_type": "display_data"
    }
   ],
   "source": [
    "square?"
   ]
  },
  {
   "cell_type": "code",
   "execution_count": 7,
   "id": "17aa85c8",
   "metadata": {},
   "outputs": [
    {
     "data": {
      "text/plain": [
       "\u001b[1;31mSignature:\u001b[0m \u001b[0mprint\u001b[0m\u001b[1;33m(\u001b[0m\u001b[1;33m*\u001b[0m\u001b[0margs\u001b[0m\u001b[1;33m,\u001b[0m \u001b[0msep\u001b[0m\u001b[1;33m=\u001b[0m\u001b[1;34m' '\u001b[0m\u001b[1;33m,\u001b[0m \u001b[0mend\u001b[0m\u001b[1;33m=\u001b[0m\u001b[1;34m'\\n'\u001b[0m\u001b[1;33m,\u001b[0m \u001b[0mfile\u001b[0m\u001b[1;33m=\u001b[0m\u001b[1;32mNone\u001b[0m\u001b[1;33m,\u001b[0m \u001b[0mflush\u001b[0m\u001b[1;33m=\u001b[0m\u001b[1;32mFalse\u001b[0m\u001b[1;33m)\u001b[0m\u001b[1;33m\u001b[0m\u001b[1;33m\u001b[0m\u001b[0m\n",
       "\u001b[1;31mDocstring:\u001b[0m\n",
       "Prints the values to a stream, or to sys.stdout by default.\n",
       "\n",
       "sep\n",
       "  string inserted between values, default a space.\n",
       "end\n",
       "  string appended after the last value, default a newline.\n",
       "file\n",
       "  a file-like object (stream); defaults to the current sys.stdout.\n",
       "flush\n",
       "  whether to forcibly flush the stream.\n",
       "\u001b[1;31mType:\u001b[0m      builtin_function_or_method"
      ]
     },
     "metadata": {},
     "output_type": "display_data"
    }
   ],
   "source": [
    "print?"
   ]
  },
  {
   "cell_type": "markdown",
   "id": "combined-contemporary",
   "metadata": {
    "slideshow": {
     "slide_type": "slide"
    }
   },
   "source": [
    "### Returning a Result to a Function’s Caller\n",
    "* Function calls also can be embedded in expressions:"
   ]
  },
  {
   "cell_type": "code",
   "execution_count": null,
   "id": "durable-deviation",
   "metadata": {},
   "outputs": [],
   "source": [
    "print('The square of 7 is', square(7))"
   ]
  },
  {
   "cell_type": "markdown",
   "id": "automotive-place",
   "metadata": {
    "slideshow": {
     "slide_type": "slide"
    }
   },
   "source": [
    "* Three Ways to Return a Result to a Function’s Caller\n",
    "    * **`return`** followed by an expression.\n",
    "    * **`return`** without an expression implicitly returns **`None`**&mdash;represents the **absence of a value** and **evaluates to `False` in conditions**.\n",
    "    * **No `return` statement implicitly returns `None`**.\n"
   ]
  },
  {
   "cell_type": "markdown",
   "id": "44b6609c",
   "metadata": {
    "slideshow": {
     "slide_type": "fragment"
    }
   },
   "source": [
    "* **Be carful:** Calling `print()` within a function is **NOT** a return.\n",
    "* `print()` just outputs values mosty on the standard output. Those values are not accessable by the function's caller.\n",
    " "
   ]
  },
  {
   "cell_type": "code",
   "execution_count": null,
   "id": "b34314e8",
   "metadata": {
    "slideshow": {
     "slide_type": "slide"
    }
   },
   "outputs": [],
   "source": [
    "def square_with_no_return(number):\n",
    "    \"\"\"Calculate the square of number and print the result.\"\"\"\n",
    "    print(number ** 2) ## this function has no return statement, it \"prints\" a value \n",
    "                       ## to the StdOutput but does not \"return\" anything"
   ]
  },
  {
   "cell_type": "code",
   "execution_count": null,
   "id": "d8fc725d",
   "metadata": {},
   "outputs": [],
   "source": [
    "square_with_no_return(7)"
   ]
  },
  {
   "cell_type": "code",
   "execution_count": null,
   "id": "97dc7455",
   "metadata": {},
   "outputs": [],
   "source": [
    "print('The square of 7 is', square_with_no_return(7), '... really?')"
   ]
  },
  {
   "cell_type": "markdown",
   "id": "round-hampshire",
   "metadata": {
    "slideshow": {
     "slide_type": "slide"
    }
   },
   "source": [
    "### What Happens When You Call a Function\n",
    "* Parameters exist only during the function call. \n",
    "* Created on each call to the function to receive arguments.\n",
    "* Destroyed when the function returns its result to the caller. \n",
    "* A function’s parameters and variables defined in its block are all **local variables**."
   ]
  },
  {
   "cell_type": "code",
   "execution_count": null,
   "id": "medium-kennedy",
   "metadata": {},
   "outputs": [],
   "source": [
    "def square(number):\n",
    "    \"\"\"Calculate the square of number.\"\"\"\n",
    "    return number ** 2"
   ]
  },
  {
   "cell_type": "code",
   "execution_count": null,
   "id": "better-connection",
   "metadata": {},
   "outputs": [],
   "source": [
    "number"
   ]
  },
  {
   "cell_type": "markdown",
   "id": "upset-translator",
   "metadata": {
    "slideshow": {
     "slide_type": "slide"
    }
   },
   "source": [
    "## 4.3 Functions with Multiple Parameters\n",
    "* `maximum` function that determines and returns the largest of three values."
   ]
  },
  {
   "cell_type": "code",
   "execution_count": null,
   "id": "sitting-poetry",
   "metadata": {},
   "outputs": [],
   "source": [
    "def maximum(value1, value2, value3):\n",
    "    \"\"\"Return the maximum of three values.\"\"\"\n",
    "    max_value = value1\n",
    "    if value2 > max_value:\n",
    "        max_value = value2\n",
    "    if value3 > max_value:\n",
    "        max_value = value3\n",
    "    return max_value"
   ]
  },
  {
   "cell_type": "code",
   "execution_count": null,
   "id": "interracial-shower",
   "metadata": {},
   "outputs": [],
   "source": [
    "maximum(12, 27, 36)"
   ]
  },
  {
   "cell_type": "code",
   "execution_count": null,
   "id": "residential-accommodation",
   "metadata": {},
   "outputs": [],
   "source": [
    "maximum(12.3, 45.6, 9.7)"
   ]
  },
  {
   "cell_type": "code",
   "execution_count": null,
   "id": "interesting-rescue",
   "metadata": {},
   "outputs": [],
   "source": [
    "maximum('yellow', 'red', 'orange')"
   ]
  },
  {
   "cell_type": "markdown",
   "id": "other-judge",
   "metadata": {
    "slideshow": {
     "slide_type": "slide"
    }
   },
   "source": [
    "* May call maximum with mixed types, such as `int`s and `float`s."
   ]
  },
  {
   "cell_type": "code",
   "execution_count": null,
   "id": "republican-undergraduate",
   "metadata": {},
   "outputs": [],
   "source": [
    "maximum(13.5, -3, 7)"
   ]
  },
  {
   "cell_type": "markdown",
   "id": "adopted-mining",
   "metadata": {
    "slideshow": {
     "slide_type": "notes"
    }
   },
   "source": [
    "### Function maximum’s Definition\n",
    "* Specify multiple parameters in a comma-separated list.\n",
    "* To determine the largest value:\n",
    "    * Assume that `value1` contains the largest value. \n",
    "    * The first `if` statement then tests `value2 > max_value`, and if this condition is `True` assigns `value2` to `max_value`. \n",
    "    * The second `if` statement then tests `value3 > max_value`, and if this condition is `True` assigns `value3` to `max_value`. \n",
    "* Now, `max_value` contains the largest value."
   ]
  },
  {
   "cell_type": "markdown",
   "id": "intermediate-intent",
   "metadata": {
    "slideshow": {
     "slide_type": "slide"
    }
   },
   "source": [
    "### Python’s Built-In max and min Functions\n",
    "* For many common tasks, the capabilities you need already exist in Python. \n",
    "* Built-in `max` and `min` functions know how to determine the largest and smallest of their two or more arguments:"
   ]
  },
  {
   "cell_type": "code",
   "execution_count": null,
   "id": "continental-gabriel",
   "metadata": {},
   "outputs": [],
   "source": [
    "max('yellow', 'red', 'orange', 'blue', 'green')"
   ]
  },
  {
   "cell_type": "code",
   "execution_count": null,
   "id": "wrong-herald",
   "metadata": {},
   "outputs": [],
   "source": [
    "min(15, 9, 27, 14)"
   ]
  },
  {
   "cell_type": "markdown",
   "id": "blank-producer",
   "metadata": {
    "slideshow": {
     "slide_type": "slide"
    }
   },
   "source": [
    "* Each function also can receive an iterable argument, such as a list or a string. \n",
    "* Using built-in functions or functions from the Python Standard Library’s modules rather than writing your own can reduce development time and increase program reliability, portability and performance. \n",
    "* [Python’s built-in functions and modules](https://docs.python.org/3/library/index.html)"
   ]
  },
  {
   "cell_type": "markdown",
   "id": "conscious-couple",
   "metadata": {
    "slideshow": {
     "slide_type": "slide"
    }
   },
   "source": [
    "# 4.4 Random-Number Generation\n",
    "* Can introduce the element of chance via the Python Standard Library’s `random` module. "
   ]
  },
  {
   "cell_type": "markdown",
   "id": "realistic-stomach",
   "metadata": {
    "slideshow": {
     "slide_type": "slide"
    }
   },
   "source": [
    "### Rolling a Six-Sided Die\n",
    "* Produce 10 random integers in the range 1–6 to simulate rolling a six-sided die:"
   ]
  },
  {
   "cell_type": "code",
   "execution_count": 1,
   "id": "level-senior",
   "metadata": {
    "tags": []
   },
   "outputs": [],
   "source": [
    "import random"
   ]
  },
  {
   "cell_type": "code",
   "execution_count": 2,
   "id": "assured-trunk",
   "metadata": {
    "tags": []
   },
   "outputs": [
    {
     "name": "stdout",
     "output_type": "stream",
     "text": [
      "2 1 2 2 4 2 4 5 4 2 "
     ]
    }
   ],
   "source": [
    "for roll in range(10):\n",
    "    print(random.randrange(1, 7), end=' ')"
   ]
  },
  {
   "cell_type": "markdown",
   "id": "related-clone",
   "metadata": {
    "slideshow": {
     "slide_type": "slide"
    }
   },
   "source": [
    "* `randrange` function generates an integer from the first argument value up to, but not including, the second argument value.\n",
    "* Different values are displayed if you re-execute the loop."
   ]
  },
  {
   "cell_type": "code",
   "execution_count": null,
   "id": "structural-module",
   "metadata": {},
   "outputs": [],
   "source": [
    "for roll in range(10):\n",
    "    print(random.randrange(1, 7), end=' ')"
   ]
  },
  {
   "cell_type": "markdown",
   "id": "vital-imaging",
   "metadata": {
    "slideshow": {
     "slide_type": "slide"
    }
   },
   "source": [
    "### Rolling a Six-Sided Die 6,000,000 Times\n",
    "* If `randrange` truly produces integers at random, every number in its range has an equal probability (or chance or likelihood) of being returned each time we call it. \n",
    "* Roll a die 6,000,000 times.\n",
    "* Each die face should occur approximately 1,000,000 times.\n",
    "* We used Python’s underscore (_) digit separator to make the value 6000000 more readable. "
   ]
  },
  {
   "cell_type": "code",
   "execution_count": 29,
   "id": "bf519987",
   "metadata": {
    "tags": []
   },
   "outputs": [
    {
     "name": "stdout",
     "output_type": "stream",
     "text": [
      "Face    Frequency\n",
      "   1            0\n",
      "   2            2\n",
      "   3            0\n",
      "   4            0\n",
      "   5            0\n",
      "   6            4\n"
     ]
    }
   ],
   "source": [
    "import random\n",
    "\n",
    "# face frequency counters\n",
    "frequency1 = 0\n",
    "frequency2 = 0\n",
    "frequency3 = 0\n",
    "frequency4 = 0\n",
    "frequency5 = 0\n",
    "frequency6 = 0\n",
    "\n",
    "# 6,000,000 die rolls\n",
    "for roll in range(6):  # note underscore separators, for readability\n",
    "    face = random.randrange(1, 7)\n",
    "\n",
    "    # increment appropriate face counter\n",
    "    if face == 1:\n",
    "        frequency1 += 1\n",
    "    elif face == 2:\n",
    "        frequency2 += 1\n",
    "    elif face == 3:\n",
    "        frequency3 += 1\n",
    "    elif face == 4:\n",
    "        frequency4 += 1\n",
    "    elif face == 5:\n",
    "        frequency5 += 1\n",
    "    elif face == 6:\n",
    "        frequency6 += 1\n",
    "\n",
    "print(f'Face{\"Frequency\":>13}')   # f'...' is a f-String, format string: print 'Face' at cursor position, \n",
    "                                  # move cursor for 13 positions and print 'Frequency' flush righ\n",
    "print(f'{1:>4}{frequency1:>13}')  # move coursor 4 positions and print 1 flush right, move cursor for 13 positions and\n",
    "                                  # print the value of frequency1 flush right\n",
    "print(f'{2:>4}{frequency2:>13}')  # and so on\n",
    "print(f'{3:>4}{frequency3:>13}')\n",
    "print(f'{4:>4}{frequency4:>13}')\n",
    "print(f'{5:>4}{frequency5:>13}')\n",
    "print(f'{6:>4}{frequency6:>13}')"
   ]
  },
  {
   "cell_type": "markdown",
   "id": "conservative-newman",
   "metadata": {
    "slideshow": {
     "slide_type": "slide"
    }
   },
   "source": [
    "### Seeding the Random-Number Generator for Reproducibility\n",
    "* Function `randrange` generates pseudorandom numbers. \n",
    "* Numbers appear to be random, because each time you start a new interactive session or execute a script that uses the random module’s functions, Python internally uses a different seed value. \n",
    "* When you’re debugging logic errors in programs that use randomly generated data, it can be helpful to use the same sequence of random numbers. \n",
    "* To do this, use the random module’s `seed` function to seed the random-number generator:"
   ]
  },
  {
   "cell_type": "code",
   "execution_count": null,
   "id": "musical-france",
   "metadata": {
    "slideshow": {
     "slide_type": "slide"
    }
   },
   "outputs": [],
   "source": [
    "random.seed(32)"
   ]
  },
  {
   "cell_type": "code",
   "execution_count": null,
   "id": "mature-point",
   "metadata": {},
   "outputs": [],
   "source": [
    "for roll in range(10):\n",
    "    print(random.randrange(1, 7), end=' ')"
   ]
  },
  {
   "cell_type": "code",
   "execution_count": null,
   "id": "empirical-expansion",
   "metadata": {},
   "outputs": [],
   "source": [
    "for roll in range(10):\n",
    "    print(random.randrange(1, 7), end=' ')"
   ]
  },
  {
   "cell_type": "code",
   "execution_count": null,
   "id": "beautiful-insert",
   "metadata": {},
   "outputs": [],
   "source": [
    "random.seed(32)"
   ]
  },
  {
   "cell_type": "code",
   "execution_count": null,
   "id": "resistant-focus",
   "metadata": {
    "scrolled": true
   },
   "outputs": [],
   "source": [
    "for roll in range(10):\n",
    "    print(random.randrange(1, 7), end=' ')"
   ]
  },
  {
   "cell_type": "markdown",
   "id": "creative-breath",
   "metadata": {
    "slideshow": {
     "slide_type": "slide"
    }
   },
   "source": [
    "# One more Quiz, please"
   ]
  },
  {
   "cell_type": "markdown",
   "id": "secret-soviet",
   "metadata": {
    "slideshow": {
     "slide_type": "notes"
    }
   },
   "source": [
    "------\n",
    "&copy;1992&ndash;2020 by Pearson Education, Inc. All Rights Reserved. This content is based on Chapter 1 of the book [**Intro to Python for Computer Science and Data Science: Learning to Program with AI, Big Data and the Cloud**](https://amzn.to/2VvdnxE).         "
   ]
  }
 ],
 "metadata": {
  "celltoolbar": "Slideshow",
  "kernelspec": {
   "display_name": "Python 3 (ipykernel)",
   "language": "python",
   "name": "python3"
  },
  "language_info": {
   "codemirror_mode": {
    "name": "ipython",
    "version": 3
   },
   "file_extension": ".py",
   "mimetype": "text/x-python",
   "name": "python",
   "nbconvert_exporter": "python",
   "pygments_lexer": "ipython3",
   "version": "3.11.5"
  }
 },
 "nbformat": 4,
 "nbformat_minor": 5
}
